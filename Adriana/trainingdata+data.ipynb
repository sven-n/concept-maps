{
 "cells": [
  {
   "cell_type": "code",
   "execution_count": 41,
   "metadata": {},
   "outputs": [
    {
     "name": "stdout",
     "output_type": "stream",
     "text": [
      "['tok2vec', 'tagger', 'parser', 'attribute_ruler', 'lemmatizer', 'ner']\n"
     ]
    }
   ],
   "source": [
    "from spacy.util import filter_spans\n",
    "from tqdm import tqdm\n",
    "import spacy\n",
    "from spacy.training.example import Example #Müssen später vermutlich was anderes nehmen\n",
    "from spacy.training.iob_utils import offsets_to_biluo_tags\n",
    "import random\n",
    "import os\n",
    "from training_set import training_data_got\n",
    "\n",
    "import spacy\n",
    " \n",
    "nlp = spacy.load(\"en_core_web_sm\")\n",
    "doc = nlp(text)\n",
    " \n",
    "print(nlp.pipe_names)"
   ]
  },
  {
   "cell_type": "code",
   "execution_count": 42,
   "metadata": {},
   "outputs": [
    {
     "name": "stderr",
     "output_type": "stream",
     "text": [
      "100%|██████████| 1/1 [00:00<?, ?it/s]\n"
     ]
    }
   ],
   "source": [
    "training_data = []\n",
    "for example in tqdm(training_data_got[1]):\n",
    "    text, annotations = example[0], example[1]\n",
    "\n",
    "    entities = annotations['entities']\n",
    "    doc = nlp.make_doc(text)\n",
    "    spans = []\n",
    "    for start, end, label in entities:\n",
    "        span = doc.char_span(start, end, label=label, alignment_mode=\"contract\")\n",
    "        if span is None:\n",
    "            print(\"Skipping entity\")\n",
    "        else:\n",
    "            spans.append(span)\n",
    "    filtered_spans = filter_spans(spans)\n",
    "    doc.ents = filtered_spans\n",
    "    training_data.append((doc, annotations))\n"
   ]
  },
  {
   "cell_type": "code",
   "execution_count": 43,
   "metadata": {},
   "outputs": [
    {
     "ename": "TypeError",
     "evalue": "DocBin.add() got an unexpected keyword argument 'annotations'",
     "output_type": "error",
     "traceback": [
      "\u001b[1;31m---------------------------------------------------------------------------\u001b[0m",
      "\u001b[1;31mTypeError\u001b[0m                                 Traceback (most recent call last)",
      "\u001b[1;32mc:\\Users\\Adriana\\Desktop\\Uni\\Fachpraktikum\\Repo\\concept-maps\\Adriana\\trainingdata+data.ipynb Cell 3\u001b[0m in \u001b[0;36m3\n\u001b[0;32m      <a href='vscode-notebook-cell:/c%3A/Users/Adriana/Desktop/Uni/Fachpraktikum/Repo/concept-maps/Adriana/trainingdata%2Bdata.ipynb#W3sZmlsZQ%3D%3D?line=0'>1</a>\u001b[0m doc_bin \u001b[39m=\u001b[39m spacy\u001b[39m.\u001b[39mtokens\u001b[39m.\u001b[39mDocBin()\n\u001b[0;32m      <a href='vscode-notebook-cell:/c%3A/Users/Adriana/Desktop/Uni/Fachpraktikum/Repo/concept-maps/Adriana/trainingdata%2Bdata.ipynb#W3sZmlsZQ%3D%3D?line=1'>2</a>\u001b[0m \u001b[39mfor\u001b[39;00m doc, annotations \u001b[39min\u001b[39;00m training_data:\n\u001b[1;32m----> <a href='vscode-notebook-cell:/c%3A/Users/Adriana/Desktop/Uni/Fachpraktikum/Repo/concept-maps/Adriana/trainingdata%2Bdata.ipynb#W3sZmlsZQ%3D%3D?line=2'>3</a>\u001b[0m     doc_bin\u001b[39m.\u001b[39;49madd(doc, annotations\u001b[39m=\u001b[39;49mannotations)\n\u001b[0;32m      <a href='vscode-notebook-cell:/c%3A/Users/Adriana/Desktop/Uni/Fachpraktikum/Repo/concept-maps/Adriana/trainingdata%2Bdata.ipynb#W3sZmlsZQ%3D%3D?line=3'>4</a>\u001b[0m doc_bin\u001b[39m.\u001b[39mto_disk(\u001b[39m\"\u001b[39m\u001b[39mtraining_data.spacy\u001b[39m\u001b[39m\"\u001b[39m)\n",
      "\u001b[1;31mTypeError\u001b[0m: DocBin.add() got an unexpected keyword argument 'annotations'"
     ]
    }
   ],
   "source": [
    "doc_bin = spacy.tokens.DocBin()\n",
    "for doc, annotations in training_data:\n",
    "    doc_bin.add(doc, annotations=annotations)\n",
    "doc_bin.to_disk(\"training_data.spacy\")\n"
   ]
  },
  {
   "cell_type": "code",
   "execution_count": null,
   "metadata": {},
   "outputs": [],
   "source": [
    "! python -m spacy init fill-config base_config.cfg config.cfg\n"
   ]
  },
  {
   "cell_type": "code",
   "execution_count": null,
   "metadata": {},
   "outputs": [],
   "source": [
    "! python -m spacy train config.cfg --output ./ --paths.train ./training_data.spacy --paths.dev ./training_data.spacy --gpu-id 0\n"
   ]
  }
 ],
 "metadata": {
  "kernelspec": {
   "display_name": "Python 3",
   "language": "python",
   "name": "python3"
  },
  "language_info": {
   "codemirror_mode": {
    "name": "ipython",
    "version": 3
   },
   "file_extension": ".py",
   "mimetype": "text/x-python",
   "name": "python",
   "nbconvert_exporter": "python",
   "pygments_lexer": "ipython3",
   "version": "3.11.0"
  },
  "orig_nbformat": 4
 },
 "nbformat": 4,
 "nbformat_minor": 2
}
