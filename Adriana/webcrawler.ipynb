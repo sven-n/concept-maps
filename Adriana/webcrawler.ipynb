{
 "cells": [
  {
   "cell_type": "code",
   "execution_count": 3,
   "metadata": {},
   "outputs": [],
   "source": [
    "import requests\n",
    "import json\n",
    "from bs4 import BeautifulSoup"
   ]
  },
  {
   "cell_type": "code",
   "execution_count": 4,
   "metadata": {},
   "outputs": [
    {
     "name": "stdout",
     "output_type": "stream",
     "text": [
      "Die Namen wurden erfolgreich in die JSON-Datei 'house_stark_names.json' geschrieben.\n"
     ]
    }
   ],
   "source": [
    "\n",
    "\n",
    "url = \"https://gameofthrones.fandom.com/wiki/House_Stark\"\n",
    "\n",
    "# Webseite abrufen\n",
    "response = requests.get(url)\n",
    "\n",
    "if response.status_code == 200:\n",
    "    # BeautifulSoup initialisieren\n",
    "    soup = BeautifulSoup(response.content, \"html.parser\")\n",
    "    \n",
    "    # HTML-Element mit der gewünschten Liste finden\n",
    "    target_element = soup.find(\"a\", class_=\"wds-dropdown-level-nested__toggle\", href=\"https://gameofthrones.fandom.com/wiki/House_Stark\")\n",
    "    \n",
    "    if target_element:\n",
    "        # Liste der Namen finden\n",
    "        name_elements = target_element.find_next(\"ul\", class_=\"wds-list wds-is-linked\").find_all(\"span\")\n",
    "        \n",
    "        # Namen extrahieren\n",
    "        names = [element.text for element in name_elements]\n",
    "        \n",
    "        # Namen in eine JSON-Datei schreiben\n",
    "        with open(\"house_stark_names.json\", \"w\") as file:\n",
    "            json.dump(names, file)\n",
    "        \n",
    "        print(\"Die Namen wurden erfolgreich in die JSON-Datei 'house_stark_names.json' geschrieben.\")\n",
    "    else:\n",
    "        print(\"Das HTML-Element wurde nicht gefunden.\")\n",
    "else:\n",
    "    print(\"Fehler beim Abrufen der Webseite.\")\n"
   ]
  }
 ],
 "metadata": {
  "kernelspec": {
   "display_name": "Python 3",
   "language": "python",
   "name": "python3"
  },
  "language_info": {
   "codemirror_mode": {
    "name": "ipython",
    "version": 3
   },
   "file_extension": ".py",
   "mimetype": "text/x-python",
   "name": "python",
   "nbconvert_exporter": "python",
   "pygments_lexer": "ipython3",
   "version": "3.11.0"
  },
  "orig_nbformat": 4
 },
 "nbformat": 4,
 "nbformat_minor": 2
}
