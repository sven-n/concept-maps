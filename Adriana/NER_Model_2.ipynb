{
 "cells": [
  {
   "cell_type": "code",
   "execution_count": 2,
   "metadata": {},
   "outputs": [
    {
     "name": "stdout",
     "output_type": "stream",
     "text": [
      "Requirement already satisfied: spacy[transformers] in c:\\users\\adriana\\appdata\\local\\programs\\python\\python311\\lib\\site-packages (3.5.3)\n",
      "Requirement already satisfied: spacy-legacy<3.1.0,>=3.0.11 in c:\\users\\adriana\\appdata\\local\\programs\\python\\python311\\lib\\site-packages (from spacy[transformers]) (3.0.12)\n",
      "Requirement already satisfied: spacy-loggers<2.0.0,>=1.0.0 in c:\\users\\adriana\\appdata\\local\\programs\\python\\python311\\lib\\site-packages (from spacy[transformers]) (1.0.4)\n",
      "Requirement already satisfied: murmurhash<1.1.0,>=0.28.0 in c:\\users\\adriana\\appdata\\local\\programs\\python\\python311\\lib\\site-packages (from spacy[transformers]) (1.0.9)\n",
      "Requirement already satisfied: cymem<2.1.0,>=2.0.2 in c:\\users\\adriana\\appdata\\local\\programs\\python\\python311\\lib\\site-packages (from spacy[transformers]) (2.0.7)\n",
      "Requirement already satisfied: preshed<3.1.0,>=3.0.2 in c:\\users\\adriana\\appdata\\local\\programs\\python\\python311\\lib\\site-packages (from spacy[transformers]) (3.0.8)\n",
      "Requirement already satisfied: thinc<8.2.0,>=8.1.8 in c:\\users\\adriana\\appdata\\local\\programs\\python\\python311\\lib\\site-packages (from spacy[transformers]) (8.1.10)\n",
      "Requirement already satisfied: wasabi<1.2.0,>=0.9.1 in c:\\users\\adriana\\appdata\\local\\programs\\python\\python311\\lib\\site-packages (from spacy[transformers]) (1.1.1)\n",
      "Requirement already satisfied: srsly<3.0.0,>=2.4.3 in c:\\users\\adriana\\appdata\\local\\programs\\python\\python311\\lib\\site-packages (from spacy[transformers]) (2.4.6)\n",
      "Requirement already satisfied: catalogue<2.1.0,>=2.0.6 in c:\\users\\adriana\\appdata\\local\\programs\\python\\python311\\lib\\site-packages (from spacy[transformers]) (2.0.8)\n",
      "Requirement already satisfied: typer<0.8.0,>=0.3.0 in c:\\users\\adriana\\appdata\\local\\programs\\python\\python311\\lib\\site-packages (from spacy[transformers]) (0.7.0)\n",
      "Requirement already satisfied: pathy>=0.10.0 in c:\\users\\adriana\\appdata\\local\\programs\\python\\python311\\lib\\site-packages (from spacy[transformers]) (0.10.1)\n",
      "Requirement already satisfied: smart-open<7.0.0,>=5.2.1 in c:\\users\\adriana\\appdata\\local\\programs\\python\\python311\\lib\\site-packages (from spacy[transformers]) (6.3.0)\n",
      "Requirement already satisfied: tqdm<5.0.0,>=4.38.0 in c:\\users\\adriana\\appdata\\local\\programs\\python\\python311\\lib\\site-packages (from spacy[transformers]) (4.65.0)\n",
      "Requirement already satisfied: numpy>=1.15.0 in c:\\users\\adriana\\appdata\\local\\programs\\python\\python311\\lib\\site-packages (from spacy[transformers]) (1.23.4)\n",
      "Requirement already satisfied: requests<3.0.0,>=2.13.0 in c:\\users\\adriana\\appdata\\local\\programs\\python\\python311\\lib\\site-packages (from spacy[transformers]) (2.28.1)\n",
      "Requirement already satisfied: pydantic!=1.8,!=1.8.1,<1.11.0,>=1.7.4 in c:\\users\\adriana\\appdata\\local\\programs\\python\\python311\\lib\\site-packages (from spacy[transformers]) (1.10.7)\n",
      "Requirement already satisfied: jinja2 in c:\\users\\adriana\\appdata\\local\\programs\\python\\python311\\lib\\site-packages (from spacy[transformers]) (3.1.2)\n",
      "Requirement already satisfied: setuptools in c:\\users\\adriana\\appdata\\local\\programs\\python\\python311\\lib\\site-packages (from spacy[transformers]) (67.8.0)\n",
      "Requirement already satisfied: packaging>=20.0 in c:\\users\\adriana\\appdata\\local\\programs\\python\\python311\\lib\\site-packages (from spacy[transformers]) (21.3)\n",
      "Requirement already satisfied: langcodes<4.0.0,>=3.2.0 in c:\\users\\adriana\\appdata\\local\\programs\\python\\python311\\lib\\site-packages (from spacy[transformers]) (3.3.0)\n",
      "Requirement already satisfied: spacy-transformers<1.3.0,>=1.1.2 in c:\\users\\adriana\\appdata\\local\\programs\\python\\python311\\lib\\site-packages (from spacy[transformers]) (1.2.4)\n",
      "Requirement already satisfied: pyparsing!=3.0.5,>=2.0.2 in c:\\users\\adriana\\appdata\\local\\programs\\python\\python311\\lib\\site-packages (from packaging>=20.0->spacy[transformers]) (3.0.9)\n",
      "Requirement already satisfied: typing-extensions>=4.2.0 in c:\\users\\adriana\\appdata\\local\\programs\\python\\python311\\lib\\site-packages (from pydantic!=1.8,!=1.8.1,<1.11.0,>=1.7.4->spacy[transformers]) (4.4.0)\n",
      "Requirement already satisfied: charset-normalizer<3,>=2 in c:\\users\\adriana\\appdata\\local\\programs\\python\\python311\\lib\\site-packages (from requests<3.0.0,>=2.13.0->spacy[transformers]) (2.1.1)\n",
      "Requirement already satisfied: idna<4,>=2.5 in c:\\users\\adriana\\appdata\\local\\programs\\python\\python311\\lib\\site-packages (from requests<3.0.0,>=2.13.0->spacy[transformers]) (3.4)\n",
      "Requirement already satisfied: urllib3<1.27,>=1.21.1 in c:\\users\\adriana\\appdata\\local\\programs\\python\\python311\\lib\\site-packages (from requests<3.0.0,>=2.13.0->spacy[transformers]) (1.26.12)\n",
      "Requirement already satisfied: certifi>=2017.4.17 in c:\\users\\adriana\\appdata\\local\\programs\\python\\python311\\lib\\site-packages (from requests<3.0.0,>=2.13.0->spacy[transformers]) (2022.9.24)\n",
      "Requirement already satisfied: transformers<4.30.0,>=3.4.0 in c:\\users\\adriana\\appdata\\local\\programs\\python\\python311\\lib\\site-packages (from spacy-transformers<1.3.0,>=1.1.2->spacy[transformers]) (4.29.2)\n",
      "Requirement already satisfied: torch>=1.8.0 in c:\\users\\adriana\\appdata\\local\\programs\\python\\python311\\lib\\site-packages (from spacy-transformers<1.3.0,>=1.1.2->spacy[transformers]) (2.0.1)\n",
      "Requirement already satisfied: spacy-alignments<1.0.0,>=0.7.2 in c:\\users\\adriana\\appdata\\local\\programs\\python\\python311\\lib\\site-packages (from spacy-transformers<1.3.0,>=1.1.2->spacy[transformers]) (0.9.0)\n",
      "Requirement already satisfied: blis<0.8.0,>=0.7.8 in c:\\users\\adriana\\appdata\\local\\programs\\python\\python311\\lib\\site-packages (from thinc<8.2.0,>=8.1.8->spacy[transformers]) (0.7.9)\n",
      "Requirement already satisfied: confection<1.0.0,>=0.0.1 in c:\\users\\adriana\\appdata\\local\\programs\\python\\python311\\lib\\site-packages (from thinc<8.2.0,>=8.1.8->spacy[transformers]) (0.0.4)\n",
      "Requirement already satisfied: colorama in c:\\users\\adriana\\appdata\\roaming\\python\\python311\\site-packages (from tqdm<5.0.0,>=4.38.0->spacy[transformers]) (0.4.6)\n",
      "Requirement already satisfied: click<9.0.0,>=7.1.1 in c:\\users\\adriana\\appdata\\local\\programs\\python\\python311\\lib\\site-packages (from typer<0.8.0,>=0.3.0->spacy[transformers]) (8.1.3)\n",
      "Requirement already satisfied: MarkupSafe>=2.0 in c:\\users\\adriana\\appdata\\local\\programs\\python\\python311\\lib\\site-packages (from jinja2->spacy[transformers]) (2.1.1)\n",
      "Requirement already satisfied: filelock in c:\\users\\adriana\\appdata\\local\\programs\\python\\python311\\lib\\site-packages (from torch>=1.8.0->spacy-transformers<1.3.0,>=1.1.2->spacy[transformers]) (3.12.0)\n",
      "Requirement already satisfied: sympy in c:\\users\\adriana\\appdata\\local\\programs\\python\\python311\\lib\\site-packages (from torch>=1.8.0->spacy-transformers<1.3.0,>=1.1.2->spacy[transformers]) (1.12)\n",
      "Requirement already satisfied: networkx in c:\\users\\adriana\\appdata\\local\\programs\\python\\python311\\lib\\site-packages (from torch>=1.8.0->spacy-transformers<1.3.0,>=1.1.2->spacy[transformers]) (3.1)\n",
      "Requirement already satisfied: huggingface-hub<1.0,>=0.14.1 in c:\\users\\adriana\\appdata\\local\\programs\\python\\python311\\lib\\site-packages (from transformers<4.30.0,>=3.4.0->spacy-transformers<1.3.0,>=1.1.2->spacy[transformers]) (0.14.1)\n",
      "Requirement already satisfied: pyyaml>=5.1 in c:\\users\\adriana\\appdata\\local\\programs\\python\\python311\\lib\\site-packages (from transformers<4.30.0,>=3.4.0->spacy-transformers<1.3.0,>=1.1.2->spacy[transformers]) (6.0)\n",
      "Requirement already satisfied: regex!=2019.12.17 in c:\\users\\adriana\\appdata\\local\\programs\\python\\python311\\lib\\site-packages (from transformers<4.30.0,>=3.4.0->spacy-transformers<1.3.0,>=1.1.2->spacy[transformers]) (2023.3.23)\n",
      "Requirement already satisfied: tokenizers!=0.11.3,<0.14,>=0.11.1 in c:\\users\\adriana\\appdata\\local\\programs\\python\\python311\\lib\\site-packages (from transformers<4.30.0,>=3.4.0->spacy-transformers<1.3.0,>=1.1.2->spacy[transformers]) (0.13.3)\n",
      "Requirement already satisfied: fsspec in c:\\users\\adriana\\appdata\\local\\programs\\python\\python311\\lib\\site-packages (from huggingface-hub<1.0,>=0.14.1->transformers<4.30.0,>=3.4.0->spacy-transformers<1.3.0,>=1.1.2->spacy[transformers]) (2023.5.0)\n",
      "Requirement already satisfied: mpmath>=0.19 in c:\\users\\adriana\\appdata\\local\\programs\\python\\python311\\lib\\site-packages (from sympy->torch>=1.8.0->spacy-transformers<1.3.0,>=1.1.2->spacy[transformers]) (1.3.0)\n"
     ]
    }
   ],
   "source": [
    "! pip install spacy[transformers]\n",
    "\n",
    "import spacy\n",
    " \n",
    "nlp = spacy.load(\"en_core_web_sm\")\n",
    "\n",
    " \n",
    "#print(nlp.pipe_names)"
   ]
  },
  {
   "cell_type": "code",
   "execution_count": 3,
   "metadata": {},
   "outputs": [
    {
     "data": {
      "text/html": [
       "<span class=\"tex2jax_ignore\"><div class=\"entities\" style=\"line-height: 2.5; direction: ltr\">What video sharing service did \n",
       "<mark class=\"entity\" style=\"background: #aa9cfc; padding: 0.45em 0.6em; margin: 0 0.25em; line-height: 1; border-radius: 0.35em;\">\n",
       "    Steve Chen\n",
       "    <span style=\"font-size: 0.8em; font-weight: bold; line-height: 1; border-radius: 0.35em; vertical-align: middle; margin-left: 0.5rem\">PERSON</span>\n",
       "</mark>\n",
       ", \n",
       "<mark class=\"entity\" style=\"background: #aa9cfc; padding: 0.45em 0.6em; margin: 0 0.25em; line-height: 1; border-radius: 0.35em;\">\n",
       "    Chad Hurley\n",
       "    <span style=\"font-size: 0.8em; font-weight: bold; line-height: 1; border-radius: 0.35em; vertical-align: middle; margin-left: 0.5rem\">PERSON</span>\n",
       "</mark>\n",
       ", and \n",
       "<mark class=\"entity\" style=\"background: #aa9cfc; padding: 0.45em 0.6em; margin: 0 0.25em; line-height: 1; border-radius: 0.35em;\">\n",
       "    Jawed Karim\n",
       "    <span style=\"font-size: 0.8em; font-weight: bold; line-height: 1; border-radius: 0.35em; vertical-align: middle; margin-left: 0.5rem\">PERSON</span>\n",
       "</mark>\n",
       " create in \n",
       "<mark class=\"entity\" style=\"background: #bfe1d9; padding: 0.45em 0.6em; margin: 0 0.25em; line-height: 1; border-radius: 0.35em;\">\n",
       "    2005\n",
       "    <span style=\"font-size: 0.8em; font-weight: bold; line-height: 1; border-radius: 0.35em; vertical-align: middle; margin-left: 0.5rem\">DATE</span>\n",
       "</mark>\n",
       "?</div></span>"
      ],
      "text/plain": [
       "<IPython.core.display.HTML object>"
      ]
     },
     "metadata": {},
     "output_type": "display_data"
    },
    {
     "name": "stderr",
     "output_type": "stream",
     "text": [
      "c:\\Users\\Adriana\\AppData\\Local\\Programs\\Python\\Python311\\Lib\\site-packages\\spacy\\displacy\\__init__.py:215: UserWarning: [W006] No entities to visualize found in Doc object. If this is surprising to you, make sure the Doc was processed using a model that supports named entity recognition, and check the `doc.ents` property manually if necessary.\n",
      "  warnings.warn(Warnings.W006)\n"
     ]
    },
    {
     "data": {
      "text/html": [
       "<span class=\"tex2jax_ignore\"><div class=\"entities\" style=\"line-height: 2.5; direction: ltr\">Antiretroviral therapy ( ART ) is recommended for all HIV-infected individuals</div></span>"
      ],
      "text/plain": [
       "<IPython.core.display.HTML object>"
      ]
     },
     "metadata": {},
     "output_type": "display_data"
    }
   ],
   "source": [
    "text = \"What video sharing service did Steve Chen, Chad Hurley, and Jawed Karim create in 2005?\"\n",
    "doc = nlp(text)\n",
    "from spacy import displacy\n",
    "displacy.render(doc, style=\"ent\", jupyter=True)\n",
    "\n",
    "string = \"Antiretroviral therapy ( ART ) is recommended for all HIV-infected individuals\"\n",
    "doc = nlp(string)\n",
    "displacy.render(doc, style=\"ent\", jupyter=True)"
   ]
  },
  {
   "cell_type": "code",
   "execution_count": 4,
   "metadata": {},
   "outputs": [
    {
     "ename": "FileNotFoundError",
     "evalue": "[Errno 2] No such file or directory: 'data.json'",
     "output_type": "error",
     "traceback": [
      "\u001b[1;31m---------------------------------------------------------------------------\u001b[0m",
      "\u001b[1;31mFileNotFoundError\u001b[0m                         Traceback (most recent call last)",
      "\u001b[1;32mUntitled-1.ipynb Cell 3\u001b[0m in \u001b[0;36m3\n\u001b[0;32m      <a href='vscode-notebook-cell:Untitled-1.ipynb?jupyter-notebook#W2sdW50aXRsZWQ%3D?line=0'>1</a>\u001b[0m \u001b[39mimport\u001b[39;00m \u001b[39mjson\u001b[39;00m\n\u001b[1;32m----> <a href='vscode-notebook-cell:Untitled-1.ipynb?jupyter-notebook#W2sdW50aXRsZWQ%3D?line=2'>3</a>\u001b[0m \u001b[39mwith\u001b[39;00m \u001b[39mopen\u001b[39;49m(\u001b[39m'\u001b[39;49m\u001b[39mdata.json\u001b[39;49m\u001b[39m'\u001b[39;49m, \u001b[39m'\u001b[39;49m\u001b[39mr\u001b[39;49m\u001b[39m'\u001b[39;49m) \u001b[39mas\u001b[39;00m f:\n\u001b[0;32m      <a href='vscode-notebook-cell:Untitled-1.ipynb?jupyter-notebook#W2sdW50aXRsZWQ%3D?line=3'>4</a>\u001b[0m     data \u001b[39m=\u001b[39m json\u001b[39m.\u001b[39mload(f)\n\u001b[0;32m      <a href='vscode-notebook-cell:Untitled-1.ipynb?jupyter-notebook#W2sdW50aXRsZWQ%3D?line=5'>6</a>\u001b[0m \u001b[39mprint\u001b[39m(data[\u001b[39m'\u001b[39m\u001b[39mexamples\u001b[39m\u001b[39m'\u001b[39m][\u001b[39m0\u001b[39m])\n",
      "File \u001b[1;32m~\\AppData\\Roaming\\Python\\Python311\\site-packages\\IPython\\core\\interactiveshell.py:282\u001b[0m, in \u001b[0;36m_modified_open\u001b[1;34m(file, *args, **kwargs)\u001b[0m\n\u001b[0;32m    275\u001b[0m \u001b[39mif\u001b[39;00m file \u001b[39min\u001b[39;00m {\u001b[39m0\u001b[39m, \u001b[39m1\u001b[39m, \u001b[39m2\u001b[39m}:\n\u001b[0;32m    276\u001b[0m     \u001b[39mraise\u001b[39;00m \u001b[39mValueError\u001b[39;00m(\n\u001b[0;32m    277\u001b[0m         \u001b[39mf\u001b[39m\u001b[39m\"\u001b[39m\u001b[39mIPython won\u001b[39m\u001b[39m'\u001b[39m\u001b[39mt let you open fd=\u001b[39m\u001b[39m{\u001b[39;00mfile\u001b[39m}\u001b[39;00m\u001b[39m by default \u001b[39m\u001b[39m\"\u001b[39m\n\u001b[0;32m    278\u001b[0m         \u001b[39m\"\u001b[39m\u001b[39mas it is likely to crash IPython. If you know what you are doing, \u001b[39m\u001b[39m\"\u001b[39m\n\u001b[0;32m    279\u001b[0m         \u001b[39m\"\u001b[39m\u001b[39myou can use builtins\u001b[39m\u001b[39m'\u001b[39m\u001b[39m open.\u001b[39m\u001b[39m\"\u001b[39m\n\u001b[0;32m    280\u001b[0m     )\n\u001b[1;32m--> 282\u001b[0m \u001b[39mreturn\u001b[39;00m io_open(file, \u001b[39m*\u001b[39;49margs, \u001b[39m*\u001b[39;49m\u001b[39m*\u001b[39;49mkwargs)\n",
      "\u001b[1;31mFileNotFoundError\u001b[0m: [Errno 2] No such file or directory: 'data.json'"
     ]
    }
   ],
   "source": [
    "from training_set import training_data_got\n",
    "    \n",
    "print(raining_data_got['examples'][0])"
   ]
  },
  {
   "cell_type": "code",
   "execution_count": null,
   "metadata": {},
   "outputs": [],
   "source": [
    "training_data = {'classes' : ['MEDICINE', \"MEDICALCONDITION\", \"PATHOGEN\"], 'annotations' : []}\n",
    "for example in data['examples']:\n",
    "  temp_dict = {}\n",
    "  temp_dict['text'] = example['content']\n",
    "  temp_dict['entities'] = []\n",
    "  for annotation in example['annotations']:\n",
    "    start = annotation['start']\n",
    "    end = annotation['end']\n",
    "    label = annotation['tag_name'].upper()\n",
    "    temp_dict['entities'].append((start, end, label))\n",
    "  training_data['annotations'].append(temp_dict)\n",
    "  \n",
    "print(training_data['annotations'][0])"
   ]
  },
  {
   "cell_type": "code",
   "execution_count": null,
   "metadata": {},
   "outputs": [],
   "source": [
    "\n",
    "import spacy\n",
    "from spacy.tokens import DocBin\n",
    "from tqdm import tqdm\n",
    "\n",
    "nlp = spacy.blank(\"en\") # load a new spacy model\n",
    "doc_bin = DocBin() # create a DocBin object"
   ]
  },
  {
   "cell_type": "code",
   "execution_count": null,
   "metadata": {},
   "outputs": [],
   "source": [
    "from spacy.util import filter_spans\n",
    "\n",
    "for training_example  in tqdm(training_data['annotations']): \n",
    "    text = training_example['text']\n",
    "    labels = training_example['entities']\n",
    "    doc = nlp.make_doc(text) \n",
    "    ents = []\n",
    "    for start, end, label in labels:\n",
    "        span = doc.char_span(start, end, label=label, alignment_mode=\"contract\")\n",
    "        if span is None:\n",
    "            print(\"Skipping entity\")\n",
    "        else:\n",
    "            ents.append(span)\n",
    "    filtered_ents = filter_spans(ents)\n",
    "    doc.ents = filtered_ents \n",
    "    doc_bin.add(doc)\n",
    "\n",
    "doc_bin.to_disk(\"training_data.spacy\") # save the docbin object"
   ]
  },
  {
   "cell_type": "code",
   "execution_count": null,
   "metadata": {},
   "outputs": [],
   "source": [
    "! python -m spacy init fill-config base_config.cfg config.cfg"
   ]
  },
  {
   "cell_type": "code",
   "execution_count": null,
   "metadata": {},
   "outputs": [],
   "source": [
    "! python -m spacy train config.cfg --output ./ --paths.train ./training_data.spacy --paths.dev ./training_data.spacy --gpu-id 0\n"
   ]
  },
  {
   "cell_type": "code",
   "execution_count": null,
   "metadata": {},
   "outputs": [],
   "source": [
    "\n",
    "nlp_ner = spacy.load(\"model-best\")\n",
    "\n",
    "doc = nlp_ner(\"Antiretroviral therapy (ART) is recommended for all HIV-infected\\\n",
    "individuals to reduce the risk of disease progression.\\nART also is recommended \\\n",
    "for HIV-infected individuals for the prevention of transmission of HIV.\\nPatients \\\n",
    "starting ART should be willing and able to commit to treatment and understand the\\\n",
    "benefits and risks of therapy and the importance of adherence. Patients may choose\\\n",
    "to postpone therapy, and providers, on a case-by-case basis, may elect to defer\\\n",
    "therapy on the basis of clinical and/or psychosocial factors.\")\n",
    "\n",
    "colors = {\"PATHOGEN\": \"#F67DE3\", \"MEDICINE\": \"#7DF6D9\", \"MEDICALCONDITION\":\"#FFFFFF\"}\n",
    "options = {\"colors\": colors} \n",
    "\n",
    "spacy.displacy.render(doc, style=\"ent\", options= options, jupyter=True)"
   ]
  }
 ],
 "metadata": {
  "kernelspec": {
   "display_name": "Python 3",
   "language": "python",
   "name": "python3"
  },
  "language_info": {
   "codemirror_mode": {
    "name": "ipython",
    "version": 3
   },
   "file_extension": ".py",
   "mimetype": "text/x-python",
   "name": "python",
   "nbconvert_exporter": "python",
   "pygments_lexer": "ipython3",
   "version": "3.11.0"
  },
  "orig_nbformat": 4
 },
 "nbformat": 4,
 "nbformat_minor": 2
}
