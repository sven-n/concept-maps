{
 "cells": [
  {
   "cell_type": "code",
   "execution_count": 3,
   "metadata": {},
   "outputs": [],
   "source": [
    "#! python -m spacy download en_core_web_sm\n",
    "\n",
    "import spacy\n",
    "from spacy.training.example import Example #Müssen später vermutlich was anderes nehmen\n",
    "from spacy.training.iob_utils import offsets_to_biluo_tags\n",
    "import random\n",
    "import os\n",
    "from training_set import training_data_got #sehr viele Warnings\n",
    "\n",
    "# Load the base model\n",
    "#nlp = spacy.blank(\"en\")\n",
    "nlp = spacy.load(\"en_core_web_sm\")\n",
    "\n",
    "# Create and add the NER pipeline component\n",
    "ner = nlp.get_pipe(\"ner\")\n",
    "\n",
    "for text, annotations in training_data_got[0:100]:\n",
    "    doc = nlp.make_doc(text)\n",
    "    #biluo_tags = offsets_to_biluo_tags(doc, annotations[\"entities\"]) # Mit Svens Daten ging es nicht\n",
    "\n",
    "    # Initialize the optimizer\n",
    "    optimizer = nlp.create_optimizer()\n",
    "\n",
    "# Perform the training\n",
    "for iteration in range(30):  #10 für die kleine Anzahl. Ansonsten könnte man ja so lange iterieren, bis die Fehler eine gewisse Untergrenze erreicht haben\n",
    "    random.shuffle(training_data_got)\n",
    "    losses = {}\n",
    "    for text, annotations in training_data_got:\n",
    "        doc = nlp.make_doc(text)\n",
    "        example = Example.from_dict(doc, annotations)\n",
    "        nlp.update([example], losses=losses, sgd=optimizer)\n",
    "    #print(\"Losses:\", losses)\n",
    "\n",
    "# Save the trained NER model\n",
    "#output_dir = os.getcwd()\n",
    "output_dir = \"C:\\\\Users\\\\Adriana\\\\Desktop\\\\Uni\\\\Fachpraktikum\\\\Repos\\\\concept-maps\\\\Adriana\\\\NER_NEU\"\n",
    "nlp.to_disk(output_dir)\n",
    "\n",
    "# Load the saved model\n",
    "loaded_nlp = spacy.load(output_dir)\n"
   ]
  },
  {
   "cell_type": "code",
   "execution_count": 4,
   "metadata": {},
   "outputs": [
    {
     "name": "stdout",
     "output_type": "stream",
     "text": [
      "Sansa Stark PERSON\n",
      "Eddard Stark PERSON\n",
      "Catelyn Stark PERSON\n",
      "Sansa Sansa PROPN NNP compound Xxxxx True False\n",
      "Stark Stark PROPN NNP nsubj Xxxxx True False\n",
      "is be AUX VBZ ROOT xx True True\n",
      "the the DET DT det xxx True True\n",
      "daughter daughter NOUN NN attr xxxx True False\n",
      "of of ADP IN prep xx True True\n",
      "Eddard Eddard PROPN NNP compound Xxxxx True False\n",
      "Stark Stark PROPN NNP pobj Xxxxx True False\n",
      "and and CCONJ CC cc xxx True True\n",
      "Catelyn Catelyn PROPN NNP compound Xxxxx True False\n",
      "Stark Stark PROPN NNP conj Xxxxx True False\n"
     ]
    },
    {
     "data": {
      "text/html": [
       "<span class=\"tex2jax_ignore\"><!DOCTYPE html>\n",
       "<html lang=\"en\">\n",
       "    <head>\n",
       "        <title>displaCy</title>\n",
       "    </head>\n",
       "\n",
       "    <body style=\"font-size: 16px; font-family: -apple-system, BlinkMacSystemFont, 'Segoe UI', Helvetica, Arial, sans-serif, 'Apple Color Emoji', 'Segoe UI Emoji', 'Segoe UI Symbol'; padding: 4rem 2rem; direction: ltr\">\n",
       "<figure style=\"margin-bottom: 6rem\">\n",
       "<div class=\"entities\" style=\"line-height: 2.5; direction: ltr\">\n",
       "<mark class=\"entity\" style=\"background: #aa9cfc; padding: 0.45em 0.6em; margin: 0 0.25em; line-height: 1; border-radius: 0.35em;\">\n",
       "    Sansa Stark\n",
       "    <span style=\"font-size: 0.8em; font-weight: bold; line-height: 1; border-radius: 0.35em; vertical-align: middle; margin-left: 0.5rem\">PERSON</span>\n",
       "</mark>\n",
       " is the daughter of \n",
       "<mark class=\"entity\" style=\"background: #aa9cfc; padding: 0.45em 0.6em; margin: 0 0.25em; line-height: 1; border-radius: 0.35em;\">\n",
       "    Eddard Stark\n",
       "    <span style=\"font-size: 0.8em; font-weight: bold; line-height: 1; border-radius: 0.35em; vertical-align: middle; margin-left: 0.5rem\">PERSON</span>\n",
       "</mark>\n",
       " and \n",
       "<mark class=\"entity\" style=\"background: #aa9cfc; padding: 0.45em 0.6em; margin: 0 0.25em; line-height: 1; border-radius: 0.35em;\">\n",
       "    Catelyn Stark\n",
       "    <span style=\"font-size: 0.8em; font-weight: bold; line-height: 1; border-radius: 0.35em; vertical-align: middle; margin-left: 0.5rem\">PERSON</span>\n",
       "</mark>\n",
       "</div>\n",
       "</figure>\n",
       "</body>\n",
       "</html></span>"
      ],
      "text/plain": [
       "<IPython.core.display.HTML object>"
      ]
     },
     "metadata": {},
     "output_type": "display_data"
    },
    {
     "name": "stdout",
     "output_type": "stream",
     "text": [
      "\n",
      "Using the 'ent' visualizer\n",
      "Serving on http://0.0.0.0:5000 ...\n",
      "\n"
     ]
    }
   ],
   "source": [
    "import spacy\n",
    "from spacy import displacy\n",
    "import os\n",
    "output_dir = os.getcwd()\n",
    "loaded_nlp = spacy.load(output_dir)\n",
    "text = \"Sansa Stark is the daughter of Eddard Stark and Catelyn Stark\"\n",
    "# Test the loaded NER model\n",
    "doc = loaded_nlp(text)\n",
    "for token in doc:\n",
    "    print(token.text, token.lemma_, token.pos_, token.tag_, token.dep_,\n",
    "        token.shape_, token.is_alpha, token.is_stop)\n",
    "displacy.serve(doc, style=\"ent\")\n",
    "\n"
   ]
  },
  {
   "cell_type": "code",
   "execution_count": null,
   "metadata": {},
   "outputs": [
    {
     "name": "stdout",
     "output_type": "stream",
     "text": [
      "Sansa Stark\n"
     ]
    }
   ],
   "source": [
    "token = doc.ents\n",
    "t1 = token[0].text\n",
    "print(token[0])\n"
   ]
  },
  {
   "cell_type": "code",
   "execution_count": null,
   "metadata": {},
   "outputs": [
    {
     "name": "stdout",
     "output_type": "stream",
     "text": [
      "[{'sentence': 'Queen Sansa Stark is the eldest daughter of Lord Eddard Stark and his wife, Lady Catelyn, sister of Robb, Arya, Bran, and Rickon Stark, and \"half-sister\" of Jon Snow; though truthfully is his cousin', 'relationships': [{'firstEntity': 'Sansa Stark', 'relationshipType': 'Father', 'secondEntity': 'Eddard Stark'}, {'firstEntity': 'Sansa Stark', 'relationshipType': 'Siblings', 'secondEntity': 'Jon Snow'}, {'firstEntity': 'Sansa Stark', 'relationshipType': 'Siblings', 'secondEntity': 'Rickon Stark'}, {'firstEntity': 'Jon Snow', 'relationshipType': 'Father', 'secondEntity': 'Eddard Stark'}, {'firstEntity': 'Eddard Stark', 'relationshipType': 'Children', 'secondEntity': 'Jon Snow'}, {'firstEntity': 'Eddard Stark', 'relationshipType': 'Children', 'secondEntity': 'Sansa Stark'}, {'firstEntity': 'Eddard Stark', 'relationshipType': 'Children', 'secondEntity': 'Rickon Stark'}, {'firstEntity': 'Rickon Stark', 'relationshipType': 'Father', 'secondEntity': 'Eddard Stark'}, {'firstEntity': 'Rickon Stark', 'relationshipType': 'Siblings', 'secondEntity': 'Jon Snow'}, {'firstEntity': 'Rickon Stark', 'relationshipType': 'Siblings', 'secondEntity': 'Sansa Stark'}, {'firstEntity': 'Sansa Stark', 'relationshipType': 'Father', 'secondEntity': 'Eddard Stark'}, {'firstEntity': 'Sansa Stark', 'relationshipType': 'Siblings', 'secondEntity': 'Jon Snow'}, {'firstEntity': 'Sansa Stark', 'relationshipType': 'Siblings', 'secondEntity': 'Rickon Stark'}, {'firstEntity': 'Sansa Stark', 'relationshipType': 'Father', 'secondEntity': 'Eddard Stark'}, {'firstEntity': 'Sansa Stark', 'relationshipType': 'Siblings', 'secondEntity': 'Jon Snow'}, {'firstEntity': 'Sansa Stark', 'relationshipType': 'Siblings', 'secondEntity': 'Rickon Stark'}, {'firstEntity': 'Sansa Stark', 'relationshipType': 'Father', 'secondEntity': 'Eddard Stark'}, {'firstEntity': 'Sansa Stark', 'relationshipType': 'Siblings', 'secondEntity': 'Jon Snow'}, {'firstEntity': 'Sansa Stark', 'relationshipType': 'Siblings', 'secondEntity': 'Rickon Stark'}, {'firstEntity': 'Sansa Stark', 'relationshipType': 'Father', 'secondEntity': 'Eddard Stark'}, {'firstEntity': 'Sansa Stark', 'relationshipType': 'Siblings', 'secondEntity': 'Jon Snow'}, {'firstEntity': 'Sansa Stark', 'relationshipType': 'Siblings', 'secondEntity': 'Rickon Stark'}]}]\n",
      "{'Jon Snow', 'Rickon Stark', 'Eddard Stark', 'Sansa Stark'}\n",
      "Entitäten: Vorhersage stimmt nicht überein\n"
     ]
    }
   ],
   "source": [
    "import json\n",
    "\n",
    "# Laden der validierten Daten aus dem JSON-Dateiformat\n",
    "with open('relationships.json', 'r') as file:\n",
    "    validation_data = json.load(file)\n",
    "\n",
    "# Ausgabe des \"data\" Objekts\n",
    "print(validation_data)\n",
    "\n",
    "# Iteriere über die Sätze im Validierungsdatensatz\n",
    "\n",
    "for data in validation_data:\n",
    "    sentence = data['sentence']\n",
    "    entities = data['relationships']\n",
    "    predicted_relationships=[]\n",
    "    for entity in entities:\n",
    "        firstEntity = entity['firstEntity']\n",
    "        #relationshipType = entity['relationshipType'] # bei ner ja eignetlich unnötig\n",
    "        secondEntity = entity['secondEntity']\n",
    "        predicted_relationships.append(firstEntity)\n",
    "        predicted_relationships.append(secondEntity)\n",
    "    predicted_relationships = set(predicted_relationships)\n",
    "    print(predicted_relationships)\n",
    "    # Verarbeite den Satz mit dem geladenen NER-Modell\n",
    "    doc = loaded_nlp(sentence)\n",
    "\n",
    "    # Vergleiche die vorhergesagten Entitäten mit den tatsächlichen Entitäten\n",
    "    predicted_entities = [(ent.text, ent.label_) for ent in doc.ents] # wird leer sein (war oben schon leer) , benötigen einen größeren Datensatz\n",
    "    if predicted_entities == entities: # geht vermutlich bei arrays nicht\n",
    "        print(\"Entitäten: Vorhersage stimmt überein\")\n",
    "    else:\n",
    "        print(\"Entitäten: Vorhersage stimmt nicht überein\")\n",
    "\n"
   ]
  }
 ],
 "metadata": {
  "kernelspec": {
   "display_name": "Python 3",
   "language": "python",
   "name": "python3"
  },
  "language_info": {
   "codemirror_mode": {
    "name": "ipython",
    "version": 3
   },
   "file_extension": ".py",
   "mimetype": "text/x-python",
   "name": "python",
   "nbconvert_exporter": "python",
   "pygments_lexer": "ipython3",
   "version": "3.11.0"
  },
  "orig_nbformat": 4
 },
 "nbformat": 4,
 "nbformat_minor": 2
}
