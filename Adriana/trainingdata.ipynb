{
 "cells": [
  {
   "cell_type": "code",
   "execution_count": 2,
   "metadata": {},
   "outputs": [
    {
     "name": "stderr",
     "output_type": "stream",
     "text": [
      "c:\\Users\\Adriana\\AppData\\Local\\Programs\\Python\\Python311\\Lib\\site-packages\\spacy\\training\\iob_utils.py:149: UserWarning: [W030] Some entities could not be aligned in the text \"(Queen Sansa Star is the eldest daughter of Lord E...\" with entities \"[(6, 16, 'PERSON'), (48, 60, 'PERSON'), (75, 87, '...\". Use `spacy.training.offsets_to_biluo_tags(nlp.make_doc(text), entities)` to check the alignment. Misaligned entities ('-') will be ignored during training.\n",
      "  warnings.warn(\n"
     ]
    },
    {
     "name": "stdout",
     "output_type": "stream",
     "text": [
      "Losses: {'ner': 30.166668072342873}\n",
      "Losses: {'ner': 28.754965037107468}\n",
      "Losses: {'ner': 26.269851714372635}\n",
      "Losses: {'ner': 22.492678180336952}\n",
      "Losses: {'ner': 16.867720879614353}\n",
      "Losses: {'ner': 10.381545104086399}\n",
      "Losses: {'ner': 4.357643008232117}\n",
      "Losses: {'ner': 1.1866512128617615}\n",
      "Losses: {'ner': 0.16519744190736674}\n",
      "Losses: {'ner': 0.008519274231730378}\n"
     ]
    }
   ],
   "source": [
    "import spacy\n",
    "from spacy.training.example import Example #Müssen später vermutlich was anderes nehmen\n",
    "from spacy.training.iob_utils import offsets_to_biluo_tags\n",
    "import random\n",
    "import os\n",
    "\n",
    "# Load the base model\n",
    "nlp = spacy.blank(\"en\")\n",
    "nlp = spacy.blank(\"en\")\n",
    "\n",
    "# Create and add the NER pipeline component\n",
    "ner = nlp.add_pipe(\"ner\")\n",
    "\n",
    "# Define the labels and add them to the NER component\n",
    "labels = [\"PERSON\"]\n",
    "for label in labels:\n",
    "    ner.add_label(label)\n",
    "\n",
    "# Define the training data\n",
    "train_data = [\n",
    "    (\n",
    "        \"(Queen Sansa Star is the eldest daughter of Lord Eddard Stark and his wife, Lady Catelyn, sister of Robb, Arya, Bran, and Rickon Stark, and half-sister of Jon Snow; though truthfully is his cousin,\",\n",
    "        {\"entities\": [(6, 16, \"PERSON\"), (48, 60, \"PERSON\"), (75, 87, \"PERSON\"), (120, 133, \"PERSON\"), (154, 162, \"PERSON\")]},\n",
    "    )\n",
    "]\n",
    "\n",
    "# Check entity alignment\n",
    "for text, annotations in train_data:\n",
    "    doc = nlp.make_doc(text)\n",
    "    biluo_tags = offsets_to_biluo_tags(doc, annotations[\"entities\"])\n",
    "\n",
    "# Initialize the optimizer\n",
    "optimizer = nlp.initialize()\n",
    "\n",
    "# Perform the training\n",
    "for iteration in range(10):  #10 für die kleine Anzahl. Ansonsten könnte man ja so lange iterieren, bis die Fehler eine gewisse Untergrenze erreicht haben\n",
    "    random.shuffle(train_data)\n",
    "    losses = {}\n",
    "    for text, annotations in train_data:\n",
    "        doc = nlp.make_doc(text)\n",
    "        example = Example.from_dict(doc, annotations)\n",
    "        nlp.update([example], losses=losses, sgd=optimizer)\n",
    "    print(\"Losses:\", losses)\n",
    "\n",
    "# Save the trained NER model\n",
    "output_dir = os.getcwd()\n",
    "nlp.to_disk(output_dir)\n",
    "\n",
    "# Load the saved model\n",
    "loaded_nlp = spacy.load(output_dir)\n",
    "\n",
    "# Test the loaded NER model\n",
    "test_text = \"(Queen Sansa Star is the eldest daughter of Lord Eddard Stark and his wife, Lady Catelyn, sister of Robb, Arya, Bran, and Rickon Stark, and half-sister of Jon Snow; though truthfully is his cousin,\"\n",
    "doc = loaded_nlp(test_text)\n",
    "for ent in doc.ents:\n",
    "    print(ent.text, ent.label_) #Laut Recherche leer, weil Datensatz zu klein\n"
   ]
  },
  {
   "cell_type": "code",
   "execution_count": 3,
   "metadata": {},
   "outputs": [
    {
     "name": "stdout",
     "output_type": "stream",
     "text": [
      "[{'sentence': 'Queen Sansa Stark is the eldest daughter of Lord Eddard Stark and his wife, Lady Catelyn, sister of Robb, Arya, Bran, and Rickon Stark, and \"half-sister\" of Jon Snow; though truthfully is his cousin', 'relationships': [{'firstEntity': 'Sansa Stark', 'relationshipType': 'Father', 'secondEntity': 'Eddard Stark'}, {'firstEntity': 'Sansa Stark', 'relationshipType': 'Siblings', 'secondEntity': 'Jon Snow'}, {'firstEntity': 'Sansa Stark', 'relationshipType': 'Siblings', 'secondEntity': 'Rickon Stark'}, {'firstEntity': 'Jon Snow', 'relationshipType': 'Father', 'secondEntity': 'Eddard Stark'}, {'firstEntity': 'Eddard Stark', 'relationshipType': 'Children', 'secondEntity': 'Jon Snow'}, {'firstEntity': 'Eddard Stark', 'relationshipType': 'Children', 'secondEntity': 'Sansa Stark'}, {'firstEntity': 'Eddard Stark', 'relationshipType': 'Children', 'secondEntity': 'Rickon Stark'}, {'firstEntity': 'Rickon Stark', 'relationshipType': 'Father', 'secondEntity': 'Eddard Stark'}, {'firstEntity': 'Rickon Stark', 'relationshipType': 'Siblings', 'secondEntity': 'Jon Snow'}, {'firstEntity': 'Rickon Stark', 'relationshipType': 'Siblings', 'secondEntity': 'Sansa Stark'}, {'firstEntity': 'Sansa Stark', 'relationshipType': 'Father', 'secondEntity': 'Eddard Stark'}, {'firstEntity': 'Sansa Stark', 'relationshipType': 'Siblings', 'secondEntity': 'Jon Snow'}, {'firstEntity': 'Sansa Stark', 'relationshipType': 'Siblings', 'secondEntity': 'Rickon Stark'}, {'firstEntity': 'Sansa Stark', 'relationshipType': 'Father', 'secondEntity': 'Eddard Stark'}, {'firstEntity': 'Sansa Stark', 'relationshipType': 'Siblings', 'secondEntity': 'Jon Snow'}, {'firstEntity': 'Sansa Stark', 'relationshipType': 'Siblings', 'secondEntity': 'Rickon Stark'}, {'firstEntity': 'Sansa Stark', 'relationshipType': 'Father', 'secondEntity': 'Eddard Stark'}, {'firstEntity': 'Sansa Stark', 'relationshipType': 'Siblings', 'secondEntity': 'Jon Snow'}, {'firstEntity': 'Sansa Stark', 'relationshipType': 'Siblings', 'secondEntity': 'Rickon Stark'}, {'firstEntity': 'Sansa Stark', 'relationshipType': 'Father', 'secondEntity': 'Eddard Stark'}, {'firstEntity': 'Sansa Stark', 'relationshipType': 'Siblings', 'secondEntity': 'Jon Snow'}, {'firstEntity': 'Sansa Stark', 'relationshipType': 'Siblings', 'secondEntity': 'Rickon Stark'}]}]\n",
      "Entitäten: Vorhersage stimmt nicht überein\n"
     ]
    }
   ],
   "source": [
    "import json\n",
    "\n",
    "# Laden der validierten Daten aus dem JSON-Dateiformat\n",
    "with open('relationships.json', 'r') as file:\n",
    "    validation_data = json.load(file)\n",
    "\n",
    "# Ausgabe des \"data\" Objekts\n",
    "print(validation_data)\n",
    "\n",
    "# Iteriere über die Sätze im Validierungsdatensatz\n",
    "\n",
    "for data in validation_data:\n",
    "    sentence = data['sentence']\n",
    "    entities = data['relationships']\n",
    "    predicted_relationships=[]\n",
    "    for entity in entities:\n",
    "        firstEntity = entity['firstEntity']\n",
    "        #relationshipType = entity['relationshipType'] # bei ner ja eignetlich unnötig\n",
    "        secondEntity = entity['firstEntity']\n",
    "        predicted_relationships.append(firstEntity)\n",
    "        predicted_relationships.append(secondEntity)\n",
    "\n",
    "\n",
    "    # Verarbeite den Satz mit dem geladenen NER-Modell\n",
    "    doc = loaded_nlp(sentence)\n",
    "\n",
    "    # Vergleiche die vorhergesagten Entitäten mit den tatsächlichen Entitäten\n",
    "    predicted_entities = [(ent.text, ent.label_) for ent in doc.ents] # wird leer sein (war oben schon leer) , benötigen einen größeren Datensatz\n",
    "    if predicted_entities == entities: # geht vermutlich bei arrays nicht\n",
    "        print(\"Entitäten: Vorhersage stimmt überein\")\n",
    "    else:\n",
    "        print(\"Entitäten: Vorhersage stimmt nicht überein\")\n",
    "\n"
   ]
  }
 ],
 "metadata": {
  "kernelspec": {
   "display_name": "Python 3",
   "language": "python",
   "name": "python3"
  },
  "language_info": {
   "codemirror_mode": {
    "name": "ipython",
    "version": 3
   },
   "file_extension": ".py",
   "mimetype": "text/x-python",
   "name": "python",
   "nbconvert_exporter": "python",
   "pygments_lexer": "ipython3",
   "version": "3.11.0"
  },
  "orig_nbformat": 4
 },
 "nbformat": 4,
 "nbformat_minor": 2
}
